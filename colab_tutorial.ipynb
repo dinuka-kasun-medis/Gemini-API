{
  "nbformat": 4,
  "nbformat_minor": 0,
  "metadata": {
    "colab": {
      "provenance": [],
      "authorship_tag": "ABX9TyNaWoUt6T1eVoQPGlQXQyX3",
      "include_colab_link": true
    },
    "kernelspec": {
      "name": "python3",
      "display_name": "Python 3"
    },
    "language_info": {
      "name": "python"
    }
  },
  "cells": [
    {
      "cell_type": "markdown",
      "metadata": {
        "id": "view-in-github",
        "colab_type": "text"
      },
      "source": [
        "<a href=\"https://colab.research.google.com/github/dinuka-kasun-medis/Gemini-API/blob/main/colab_tutorial.ipynb\" target=\"_parent\"><img src=\"https://colab.research.google.com/assets/colab-badge.svg\" alt=\"Open In Colab\"/></a>"
      ]
    },
    {
      "cell_type": "code",
      "execution_count": 1,
      "metadata": {
        "colab": {
          "base_uri": "https://localhost:8080/"
        },
        "id": "A74mBaWKKkzS",
        "outputId": "9c5e2d82-e67b-4905-f7a9-8fb82daa2f94"
      },
      "outputs": [
        {
          "output_type": "stream",
          "name": "stdout",
          "text": [
            "\u001b[2K     \u001b[90m━━━━━━━━━━━━━━━━━━━━━━━━━━━━━━━━━━━━━━━━\u001b[0m \u001b[32m146.6/146.6 kB\u001b[0m \u001b[31m2.9 MB/s\u001b[0m eta \u001b[36m0:00:00\u001b[0m\n",
            "\u001b[2K     \u001b[90m━━━━━━━━━━━━━━━━━━━━━━━━━━━━━━━━━━━━━━━━\u001b[0m \u001b[32m598.7/598.7 kB\u001b[0m \u001b[31m19.2 MB/s\u001b[0m eta \u001b[36m0:00:00\u001b[0m\n",
            "\u001b[?25h"
          ]
        }
      ],
      "source": [
        "!pip install -q -U google-generativeai"
      ]
    },
    {
      "cell_type": "code",
      "source": [
        "import pathlib\n",
        "import textwrap\n",
        "\n",
        "import google.generativeai as genai\n",
        "\n",
        "# Used to securely store your API key\n",
        "from google.colab import userdata\n",
        "\n",
        "from IPython.display import display\n",
        "from IPython.display import Markdown\n",
        "\n",
        "\n",
        "def to_markdown(text):\n",
        "  text = text.replace('•', '  *')\n",
        "  return Markdown(textwrap.indent(text, '> ', predicate=lambda _: True))"
      ],
      "metadata": {
        "id": "c2tEise6KtsE"
      },
      "execution_count": 2,
      "outputs": []
    },
    {
      "cell_type": "code",
      "source": [
        "# Or use `os.getenv('GOOGLE_API_KEY')` to fetch an environment variable.\n",
        "GOOGLE_API_KEY=userdata.get('GOOGLE_API_KEY')\n",
        "\n",
        "genai.configure(api_key=GOOGLE_API_KEY)"
      ],
      "metadata": {
        "id": "UfhaYdNqKyGE"
      },
      "execution_count": 3,
      "outputs": []
    },
    {
      "cell_type": "code",
      "source": [
        "for m in genai.list_models():\n",
        "  if 'generateContent' in m.supported_generation_methods:\n",
        "    print(m.name)"
      ],
      "metadata": {
        "colab": {
          "base_uri": "https://localhost:8080/",
          "height": 53
        },
        "id": "fWjN4JiiK2Er",
        "outputId": "7f940a8b-4175-488c-8e44-8a0de641217b"
      },
      "execution_count": 4,
      "outputs": [
        {
          "output_type": "stream",
          "name": "stdout",
          "text": [
            "models/gemini-pro\n",
            "models/gemini-pro-vision\n"
          ]
        }
      ]
    },
    {
      "cell_type": "code",
      "source": [
        "model = genai.GenerativeModel('gemini-pro')"
      ],
      "metadata": {
        "id": "V3yHWD2-K7xn"
      },
      "execution_count": 5,
      "outputs": []
    },
    {
      "cell_type": "code",
      "source": [
        "%%time\n",
        "response = model.generate_content(\"What is the meaning of life?\")"
      ],
      "metadata": {
        "colab": {
          "base_uri": "https://localhost:8080/",
          "height": 53
        },
        "id": "9cOctCETK_zr",
        "outputId": "acb42d85-ca0c-44e9-cd7e-a0b991779dfa"
      },
      "execution_count": 6,
      "outputs": [
        {
          "output_type": "stream",
          "name": "stdout",
          "text": [
            "CPU times: user 130 ms, sys: 12.6 ms, total: 142 ms\n",
            "Wall time: 10.4 s\n"
          ]
        }
      ]
    },
    {
      "cell_type": "code",
      "source": [
        "to_markdown(response.text)"
      ],
      "metadata": {
        "colab": {
          "base_uri": "https://localhost:8080/",
          "height": 620
        },
        "id": "EkiYOfOrLEBN",
        "outputId": "4f32e0e7-261a-4cde-e915-f5bf2e164d5b"
      },
      "execution_count": 7,
      "outputs": [
        {
          "output_type": "execute_result",
          "data": {
            "text/plain": [
              "<IPython.core.display.Markdown object>"
            ],
            "text/markdown": "> The meaning of life is a profound question that has been pondered by philosophers, theologians, and individuals throughout history. There is no universal or definitive answer that applies to everyone, as the meaning of life is a personal and subjective experience. Here are some common perspectives on the meaning of life:\n> \n> 1. **Purpose-driven Approach:**\n>    - Many individuals find meaning in having a clear purpose or goal in their lives. This can be anything from raising a family and contributing to society to achieving professional success or making a positive impact on the world.\n> \n> 2. **Eudaimonia and Well-being:**\n>    - In ancient Greek philosophy, eudaimonia (often translated as \"happiness\" or \"flourishing\") was considered the highest good and the ultimate goal of human existence. It involves living a virtuous and fulfilling life, characterized by well-being, contentment, and the realization of one's full potential.\n> \n> 3. **Meaning through Relationships:**\n>    - For many people, finding meaning in life comes from their relationships and connections with others. This can include family, friends, romantic partners, or even broader communities and social groups.\n> \n> 4. **Existentialism and Personal Freedom:**\n>    - Existentialist philosophers like Jean-Paul Sartre believed that life has no inherent meaning, and it is up to each individual to create their own meaning through their choices and actions. This perspective emphasizes personal freedom, responsibility, and authenticity.\n> \n> 5. **Religious and Spiritual Beliefs:**\n>    - For those who follow a particular religion or spiritual practice, the meaning of life may be closely tied to their beliefs and values. This can include serving a higher power, adhering to religious teachings, or seeking spiritual fulfillment and enlightenment.\n> \n> 6. **Personal Fulfillment and Enjoyment:**\n>    - Some people find meaning in simply living a life that brings them joy, fulfillment, and satisfaction. This can involve pursuing one's passions, hobbies, creative pursuits, or anything that brings them a sense of happiness and accomplishment.\n> \n> 7. **Contribution to Society:**\n>    - For many individuals, finding meaning in life comes from making a positive contribution to society or the world around them. This can involve volunteering, activism, social justice work, or any endeavor that aims to benefit others.\n> \n> It's important to note that the meaning of life is not a static concept and can change throughout one's lifetime. It is a continuous journey of self-discovery, exploration, and personal growth, and what gives life meaning to one person may not be the same for another."
          },
          "metadata": {},
          "execution_count": 7
        }
      ]
    },
    {
      "cell_type": "code",
      "source": [
        "response.prompt_feedback"
      ],
      "metadata": {
        "colab": {
          "base_uri": "https://localhost:8080/"
        },
        "id": "CTRX-ddMLKP7",
        "outputId": "f6042cf5-5201-420e-f30e-5943e152d4d9"
      },
      "execution_count": 8,
      "outputs": [
        {
          "output_type": "execute_result",
          "data": {
            "text/plain": [
              "safety_ratings {\n",
              "  category: HARM_CATEGORY_SEXUALLY_EXPLICIT\n",
              "  probability: NEGLIGIBLE\n",
              "}\n",
              "safety_ratings {\n",
              "  category: HARM_CATEGORY_HATE_SPEECH\n",
              "  probability: NEGLIGIBLE\n",
              "}\n",
              "safety_ratings {\n",
              "  category: HARM_CATEGORY_HARASSMENT\n",
              "  probability: NEGLIGIBLE\n",
              "}\n",
              "safety_ratings {\n",
              "  category: HARM_CATEGORY_DANGEROUS_CONTENT\n",
              "  probability: NEGLIGIBLE\n",
              "}"
            ]
          },
          "metadata": {},
          "execution_count": 8
        }
      ]
    }
  ]
}